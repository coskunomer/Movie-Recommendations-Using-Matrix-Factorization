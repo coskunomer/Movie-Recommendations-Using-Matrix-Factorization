{
 "cells": [
  {
   "cell_type": "markdown",
   "id": "808108b1",
   "metadata": {},
   "source": [
    "# Matrix Factorization"
   ]
  },
  {
   "cell_type": "markdown",
   "id": "eb6708e7",
   "metadata": {},
   "source": [
    "- Dataset used: https://grouplens.org/datasets/movielens/25m/\n",
    "<br>\n",
    "\n",
    "### Objective: \n",
    "- Given the (user, movie) == > ratings, recommend users movies that they would be interested.\n",
    "<br> \n",
    "<br> \n",
    "- Some preprocessing have already been done in preprocess.py where we have converted the pandas df to python dictionaries (user2movie, movie2user, usermovie2rating_train, usermovie2rating_test) and split it for train and test. We are using python dictionaries instead of pandas df since we it is faster.\n",
    "\n",
    "### Problem:\n",
    "- Our ratings matrix is an $N \\times M$ matrix where $N = 1625421$ and $M = 59047$. It is mostly filled zeros (sparse) because most of the users haven't rated most of the movies. Since the matrix is too big, it is not efficient to use it directly to train a model to produce recommendations.\n",
    "\n",
    "### **Idea**:\n",
    "- We can represent our ratings matrix by a product of 2 smaller matrices, $W$ and $U$ where $W$ is the $N \\times K$ users matrix and $U$ is the $M \\times K$ movies matrix ($K$ represents the latent feature dimensionality). After that, we can train our model for each user by multiplying the corresponding row with only the rows that the user rated, or vice versa for the movies matrix and obtain our predictions. Note that we will never compute $W \\times U^{T}$ since it is not efficient to do that. <br>\n",
    "<br>\n",
    "- $R ≈ \\hat{R} = W \\times U^{T}$\n",
    "\n",
    "### **User and Movie Biases and Global Average**:\n",
    "- For some users, a rating of 2.5/5 might mean a mediocre score while for the others 4/5 mean the same. That's called user bias. In order to capture that for every user we will introduce an $N \\times 1$ matrix $b$ representing the bias of the each user.\n",
    "<br>\n",
    "<br>\n",
    "- Same for the movies, some movies might be popular and publicly found good or vice versa and this might affect the user ratings. In order to capture that, we will also introduce movie bias term, an $M \\times 1$ matrix $c$ representing the bias of the each movie.\n",
    "<br>\n",
    "<br>\n",
    "- We will also add the average of the all movies rated so that the ratings are centered around 0.\n",
    "\n",
    "### Final Model:\n",
    "- $\\hat{R} = W \\times U^{T} + b + c + µ$ \n",
    "\n",
    "### Regularization:\n",
    "- We will also add a regularization term to avoid overfitting while training.\n",
    "\n",
    "### Loss Function and Optimization:\n",
    "- We will use the MSE Loss to calculate the loss. It will basically compute the square of the difference between our predictions and actual ratings. We will iterate over the movies and calculate the error for every movie and divide it by the number of the movies at the end.\n",
    "<br>\n",
    "<br>\n",
    "- Since we have 4 variables to optimize on ($W, U, b, c$), we will use Alternating Least Squares to optimize them. Note that we could also use SGD, they both have their own ups and downs. Further reading about them: https://developers.google.com/machine-learning/recommendation/collaborative/matrix \n",
    "<br>\n",
    "<br>\n",
    "- Objective Function to Minimize = $\\sum_{i, j} (r_{i, j} - \\hat{r}_{i, j})^2 + λ \\times (\\Vert{M}\\Vert^2 + \\Vert{U}\\Vert^2 + \\Vert{b}\\Vert^2 + \\Vert{c}\\Vert^2)$\n",
    "<br>\n",
    "<br>\n",
    "- To obtain the equations for these 4 variables, only thing to do is to take the derivative of the loss function with respect to these variables and set them to 0. The resulting equations can be found looking at the code in the training or searching on the internet, or even better, trying by yourselves."
   ]
  },
  {
   "cell_type": "code",
   "execution_count": 1,
   "id": "1ffb4643",
   "metadata": {},
   "outputs": [],
   "source": [
    "import pickle\n",
    "import numpy as np\n",
    "import pandas as pd\n",
    "import torch\n",
    "import matplotlib.pyplot as plt"
   ]
  },
  {
   "cell_type": "markdown",
   "id": "cdc8294b",
   "metadata": {},
   "source": [
    "### Loading the datasets"
   ]
  },
  {
   "cell_type": "code",
   "execution_count": 2,
   "id": "964f413e",
   "metadata": {},
   "outputs": [],
   "source": [
    "with open('preprocessed_dataset/user2movie.pkl', \"rb\") as f:\n",
    "    user2movie = pickle.load(f)\n",
    "with open('preprocessed_dataset/movie2user.pkl', \"rb\") as f:\n",
    "    movie2user = pickle.load(f)\n",
    "with open('preprocessed_dataset/usermovie2rating_train.pkl', \"rb\") as f:\n",
    "    usermovie2rating_train = pickle.load(f)\n",
    "with open('preprocessed_dataset/usermovie2rating_test.pkl', \"rb\") as f:\n",
    "    usermovie2rating_test = pickle.load(f)"
   ]
  },
  {
   "cell_type": "markdown",
   "id": "14cf1021",
   "metadata": {},
   "source": [
    "### Converting the data in a more desired format so that we can speed up the training process significantly. \n",
    "\n",
    "user2movierating_train == > user: (movies the user watched, ratings of the user) <br>\n",
    "movie2userrating_train == > movie: (users who watched the movie, ratings given to movie by users) <br>\n",
    "\n",
    "We are making use of the numpy library to speed things up."
   ]
  },
  {
   "cell_type": "code",
   "execution_count": 3,
   "id": "63aa060f",
   "metadata": {},
   "outputs": [],
   "source": [
    "user2movierating_train = {}\n",
    "movie2userrating_train = {}\n",
    "for user, movies in user2movie.items():\n",
    "    ratings = np.array([usermovie2rating_train[(user, movie)] for movie in movies])\n",
    "    user2movierating_train[user] = (np.array(movies), ratings)\n",
    "for movie, users in movie2user.items():\n",
    "    ratings = np.array([usermovie2rating_train[(user, movie)] for user in users])\n",
    "    movie2userrating_train[movie] = (np.array(users), ratings)"
   ]
  },
  {
   "cell_type": "code",
   "execution_count": 4,
   "id": "3e3fd6e0",
   "metadata": {},
   "outputs": [],
   "source": [
    "movie2userrating_test = {}\n",
    "for (user, movie), rating in usermovie2rating_test.items():\n",
    "    if movie not in movie2userrating_test:\n",
    "        movie2userrating_test[movie] = [[user], [rating]]\n",
    "    else:\n",
    "        movie2userrating_test[movie][0].append(user)\n",
    "        movie2userrating_test[movie][1].append(rating)\n",
    "for movie, (users, rating) in movie2userrating_test.items():\n",
    "    movie2userrating_test[movie][1] = np.array(rating)"
   ]
  },
  {
   "cell_type": "markdown",
   "id": "c95b01ac",
   "metadata": {},
   "source": [
    "Simple MSE loss that we are going to use at training to calculate the loss. <br>\n",
    "We are using movie2userrating since iterating over movies (M = 59047) is faster than iterating over users (N = 162541)"
   ]
  },
  {
   "cell_type": "code",
   "execution_count": 5,
   "id": "ceb0d81c",
   "metadata": {},
   "outputs": [],
   "source": [
    "def MSELoss(movie2userrating, W, U, b, c, mu):\n",
    "    error = 0.0\n",
    "    length = 0\n",
    "    for movie, (users, ratings) in movie2userrating.items():\n",
    "        delta = (W[users].dot(U[movie]) + b[users] + c[movie] + mu) - ratings\n",
    "        error += delta.dot(delta)\n",
    "        length += len(ratings)\n",
    "    return error / length"
   ]
  },
  {
   "cell_type": "code",
   "execution_count": 6,
   "id": "d0a43487",
   "metadata": {},
   "outputs": [
    {
     "name": "stdout",
     "output_type": "stream",
     "text": [
      "N: 162541 M: 59047\n",
      "mu: 3.5339103711405895\n"
     ]
    }
   ],
   "source": [
    "N = max(user2movie.keys()) + 1\n",
    "# N: number of users\n",
    "\n",
    "m1 = max(movie2user.keys())\n",
    "m2 = max([m for (u, m), r in usermovie2rating_test.items()])\n",
    "M = max(m1, m2) + 1\n",
    "# M: number of movies\n",
    "\n",
    "print(\"N:\", N, \"M:\", M)\n",
    "\n",
    "K = 20\n",
    "# K: latent feature dimensionality\n",
    "W = np.random.rand(N, K)\n",
    "# W: N*K matrix representing users\n",
    "U = np.random.rand(M, K)\n",
    "# U: M*K matrix representing movies\n",
    "b = np.zeros(N)\n",
    "# b: N*1 matrix representing user bias\n",
    "c = np.zeros(M)\n",
    "# c: M*1 matrix representing movie bias\n",
    "mu = np.mean(list(usermovie2rating_train.values()))\n",
    "# mu: mean of the ratings of all the movies in our training set\n",
    "print(\"mu:\", mu)"
   ]
  },
  {
   "cell_type": "markdown",
   "id": "76c9f5ac",
   "metadata": {},
   "source": [
    "## Training"
   ]
  },
  {
   "cell_type": "code",
   "execution_count": 7,
   "id": "a333fa39",
   "metadata": {},
   "outputs": [
    {
     "name": "stdout",
     "output_type": "stream",
     "text": [
      "epoch: 0 train loss: 0.700669782567338 test loss: 0.789874164646158\n",
      "epoch: 1 train loss: 0.5710452987799591 test loss: 0.687538409306985\n",
      "epoch: 2 train loss: 0.5337864699704633 test loss: 0.6509480260766504\n",
      "epoch: 3 train loss: 0.5186638481606716 test loss: 0.634976943952083\n",
      "epoch: 4 train loss: 0.5111801175247385 test loss: 0.6268894818345966\n",
      "epoch: 5 train loss: 0.5068173122805396 test loss: 0.6221597751915676\n",
      "epoch: 6 train loss: 0.5039313922820282 test loss: 0.6190411307869167\n",
      "epoch: 7 train loss: 0.5018556048698684 test loss: 0.6168014255529866\n",
      "epoch: 8 train loss: 0.5002867928593563 test loss: 0.615105956882579\n",
      "epoch: 9 train loss: 0.49906422827255986 test loss: 0.6137819541467571\n",
      "epoch: 10 train loss: 0.4980905819625998 test loss: 0.6127280516276582\n",
      "epoch: 11 train loss: 0.4973030214771768 test loss: 0.6118792910769053\n",
      "epoch: 12 train loss: 0.49665971465749387 test loss: 0.611191542797721\n",
      "epoch: 13 train loss: 0.49613151504845676 test loss: 0.6106329517958379\n",
      "epoch: 14 train loss: 0.4956967335019231 test loss: 0.6101789542724214\n",
      "epoch: 15 train loss: 0.49533824520051406 test loss: 0.6098096449210857\n",
      "epoch: 16 train loss: 0.4950420737395402 test loss: 0.6095085525515326\n",
      "epoch: 17 train loss: 0.4947966957320361 test loss: 0.6092620603855948\n",
      "epoch: 18 train loss: 0.49459261965809004 test loss: 0.6090590294241014\n",
      "epoch: 19 train loss: 0.4944220582009069 test loss: 0.6088904580871668\n",
      "epoch: 20 train loss: 0.49427864743321526 test loss: 0.6087491504626074\n",
      "epoch: 21 train loss: 0.4941572068190574 test loss: 0.6086294059523663\n",
      "epoch: 22 train loss: 0.4940535374856031 test loss: 0.6085267431578171\n",
      "epoch: 23 train loss: 0.4939642534260157 test loss: 0.6084376629691545\n",
      "epoch: 24 train loss: 0.4938866397053127 test loss: 0.6083594501050493\n"
     ]
    }
   ],
   "source": [
    "epochs = 25\n",
    "reg_penalty = 30.0\n",
    "# we are adding regularization penalty to avoid overfitting\n",
    "train_losses = []\n",
    "test_losses = []\n",
    "\n",
    "for epoch in range(epochs):\n",
    "    for user, (movies, ratings) in user2movierating_train.items():\n",
    "        A = U[movies].T.dot(U[movies]) + np.eye(K)*reg_penalty\n",
    "        W[user] = np.linalg.solve(A, (ratings - b[user] - c[movies] - mu).dot(U[movies]))\n",
    "        b[user] = ((ratings - U[movies].dot(W[user])) - c[movies] - mu).sum() / (reg_penalty + len(ratings))\n",
    "        \n",
    "    for movie, (users, ratings) in movie2userrating_train.items():\n",
    "        A = W[users].T.dot(W[users]) + np.eye(K)*reg_penalty\n",
    "        U[movie] = np.linalg.solve(A, (ratings - b[users] - c[movie] - mu).dot(W[users]))\n",
    "        c[movie] = ((ratings - W[users].dot(U[movie])) - b[users] - mu).sum() / (reg_penalty + len(ratings))\n",
    "    \n",
    "    train_loss = MSELoss(movie2userrating_train, W, U, b, c, mu)\n",
    "    test_loss = MSELoss(movie2userrating_test, W, U, b, c, mu)\n",
    "    print(\"epoch:\", epoch, \"train loss:\", train_loss, \"test loss:\", test_loss)\n",
    "    train_losses.append(train_loss)\n",
    "    test_losses.append(test_loss)"
   ]
  },
  {
   "cell_type": "code",
   "execution_count": 8,
   "id": "3877cfaa",
   "metadata": {},
   "outputs": [
    {
     "data": {
      "text/plain": [
       "<matplotlib.legend.Legend at 0x7feb4a371100>"
      ]
     },
     "execution_count": 8,
     "metadata": {},
     "output_type": "execute_result"
    },
    {
     "data": {
      "image/png": "[encoded data removed]",
      "text/plain": [
       "<Figure size 432x288 with 1 Axes>"
      ]
     },
     "metadata": {
      "needs_background": "light"
     },
     "output_type": "display_data"
    }
   ],
   "source": [
    "plt.plot(train_losses, label=\"training loss\")\n",
    "plt.plot(test_losses, label=\"test loss\")\n",
    "plt.legend()"
   ]
  },
  {
   "cell_type": "code",
   "execution_count": null,
   "id": "a12f4aad",
   "metadata": {},
   "outputs": [],
   "source": []
  },
  {
   "cell_type": "code",
   "execution_count": null,
   "id": "bf7cf664",
   "metadata": {},
   "outputs": [],
   "source": []
  },
  {
   "cell_type": "code",
   "execution_count": null,
   "id": "8f3c97e8",
   "metadata": {},
   "outputs": [],
   "source": []
  }
 ],
 "metadata": {
  "kernelspec": {
   "display_name": "Python 3 (ipykernel)",
   "language": "python",
   "name": "python3"
  },
  "language_info": {
   "codemirror_mode": {
    "name": "ipython",
    "version": 3
   },
   "file_extension": ".py",
   "mimetype": "text/x-python",
   "name": "python",
   "nbconvert_exporter": "python",
   "pygments_lexer": "ipython3",
   "version": "3.8.13"
  }
 },
 "nbformat": 4,
 "nbformat_minor": 5
}
